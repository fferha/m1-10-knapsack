{
 "cells": [
  {
   "cell_type": "markdown",
   "metadata": {},
   "source": [
    "## Knapsack Problem\n",
    "\n",
    "The *knapsack problem*:  given a set of integers $S = \\{s_1, s_2, \\ldots, s_n\\}$ and a target number $T$, find a subset (i.e., knapsack) of $S$ which adds up exactly to $T$.  \n",
    "\n",
    "For example, if $S = \\{1,2,5, 9, 10\\}$, there is a subset that adds up to $T = 22$, but not to $T = 23$.  Complete the following tasks related to this problem."
   ]
  },
  {
   "cell_type": "markdown",
   "metadata": {},
   "source": [
    "# 1. \n",
    "\n",
    "Find a subset of $S = \\{1,2,5, 9, 10\\}$ with sum $T = 22$.  Explain the process (algorithm) you used mentally to find the subset.  Then apply the same process in an attempt to find a subset with sum $T = 23$.  \n",
    "\n",
    "How do you know there is no such subset?"
   ]
  },
  {
   "cell_type": "code",
   "execution_count": null,
   "metadata": {},
   "outputs": [],
   "source": [
    "''' Exercise 1\n",
    "\n",
    "I've done many iteration going through all the possibilities with 3 numbers, then for,\n",
    "\n",
    "\n",
    "For T = 23, I started the same way, but there were\n",
    "iterration offering this outcome.\n",
    "\n",
    "'''"
   ]
  },
  {
   "cell_type": "markdown",
   "metadata": {
    "collapsed": true
   },
   "source": [
    "# 2.\n",
    "\n",
    "Consider the following possible algorithm for the knapsack problem, written in psuedocode: \n",
    "```python\n",
    "knapsack(S[], T):\n",
    "    K = empty\n",
    "    for each i < size(S)\n",
    "        if sum(K) + S[i] <= T, put S[i] into K\n",
    "    if sum(K) = T, return K, else return False.\n",
    "```\n",
    "**a)** Describe what this algorithm does in English.  \n",
    "\n",
    "**b)** Implement this algorithm in Python and run it on the $S$ and $T$ above.\n",
    "\n",
    "\n",
    "**c)** Prove that this algorithm is NOT correct.  That is, find a counterexample: a set $S$ and number $T$ for which there is a solution, but not one that the algorithm finds.\n",
    "\n",
    "**d)** Verify that this particular $S$ and $T$ does not give the right output when entered to your Python program."
   ]
  },
  {
   "cell_type": "code",
   "execution_count": null,
   "metadata": {},
   "outputs": [],
   "source": [
    "\"\"\"\n",
    "The function knapsack takes 2 parameters: \n",
    "S, which is a list\n",
    "T, stands for target\n",
    "K is an empty list\n",
    "increment value into a list K while sum(k) is lower than T\n",
    "return K or false\n",
    "\"\"\"\n",
    "for each item in S\n",
    "if K + the value at S[i] are smaller or equal to T\n",
    "append the value of S[i] to K\n",
    "\n",
    "if the sum of items in K == T\n",
    "return the list K\n",
    "else, return False\n",
    "\n",
    "'''"
   ]
  },
  {
   "cell_type": "code",
   "execution_count": 3,
   "metadata": {},
   "outputs": [
    {
     "data": {
      "text/plain": [
       "False"
      ]
     },
     "execution_count": 3,
     "metadata": {},
     "output_type": "execute_result"
    }
   ],
   "source": [
    "def knapsack(S, T):\n",
    "    K = []\n",
    "\n",
    "    for i in S:\n",
    "        if sum(K) + i <= T: \n",
    "            K.append(i)\n",
    "            \n",
    "    if sum(K) == T:\n",
    "            return K\n",
    "    else:\n",
    "        return False\n",
    "    \n",
    "knapsack([1, 2, 5, 9, 10], 22)"
   ]
  },
  {
   "cell_type": "code",
   "execution_count": 4,
   "metadata": {},
   "outputs": [
    {
     "data": {
      "text/plain": [
       "[1, 2, 5, 9]"
      ]
     },
     "execution_count": 4,
     "metadata": {},
     "output_type": "execute_result"
    }
   ],
   "source": [
    "\"\"\"\n",
    "In the output below, the algorithm only finds \n",
    "the subset {1, 2, 5, 9} = 17\n",
    "It does not find\n",
    "the subset {2, 5, 10} = 17\"\"\"\n",
    "\n",
    "def knapsack(S, T):\n",
    "    K = []\n",
    "\n",
    "    for i in S:\n",
    "        if sum(K) + i <= T: \n",
    "            K.append(i)\n",
    "            \n",
    "    if sum(K) == T:\n",
    "            return K\n",
    "    else:\n",
    "        return False\n",
    "    \n",
    "knapsack([1, 2, 5, 9, 10], 17)"
   ]
  },
  {
   "cell_type": "code",
   "execution_count": 5,
   "metadata": {},
   "outputs": [
    {
     "data": {
      "text/plain": [
       "False"
      ]
     },
     "execution_count": 5,
     "metadata": {},
     "output_type": "execute_result"
    }
   ],
   "source": [
    "\"\"\"Given the list [1, 2, 5, 9, 10],\n",
    "the algorithm knapsack(S, T) doesn't find\n",
    "the possible solution (1, 2, 9, 10) for T = 2\n",
    "\"\"\"\n",
    "def knapsack(S, T):\n",
    "    K = []\n",
    "\n",
    "    for i in S:\n",
    "        if sum(K) + i <= T: \n",
    "            K.append(i)\n",
    "            \n",
    "    if sum(K) == T:\n",
    "            return K\n",
    "    else:\n",
    "        return False\n",
    "    \n",
    "knapsack([1, 2, 5, 9, 10], 22)"
   ]
  },
  {
   "cell_type": "markdown",
   "metadata": {},
   "source": [
    "# 3. \n",
    "\n",
    "Another try: What if you put the elements in the knapsack from largest to smallest?  Check that this too is not a correct algorithm."
   ]
  },
  {
   "cell_type": "code",
   "execution_count": 15,
   "metadata": {},
   "outputs": [
    {
     "data": {
      "text/plain": [
       "False"
      ]
     },
     "execution_count": 15,
     "metadata": {},
     "output_type": "execute_result"
    }
   ],
   "source": [
    "\"\"\" this algorithme doesnt work with anothers list\n",
    "[2, 3, 5, 6, 9, 15]\n",
    "\"\"\"\n",
    "def knapsack(S, T):\n",
    "    K = []\n",
    "\n",
    "    for i in S[::-1]:\n",
    "        if sum(K) + i <= T: \n",
    "            K.append(i)\n",
    "            \n",
    "    if sum(K) == T:\n",
    "            return K\n",
    "    else:\n",
    "        return False\n",
    "    \n",
    "knapsack([2, 3, 5, 6, 9, 15], 22)"
   ]
  },
  {
   "cell_type": "markdown",
   "metadata": {},
   "source": [
    "# 4.\n",
    "\n",
    "Describe a correct algorithm for the knapsack problem (that we haven't seen in class), both in English and in pseudocode.  Then implement the algorithm in Python.  Explain how you know your algorithm is correct (even if it might not be efficient)."
   ]
  },
  {
   "cell_type": "code",
   "execution_count": null,
   "metadata": {},
   "outputs": [],
   "source": [
    "'''\n",
    "Geeks for Geeks provide a different algorithm for knapsack\n",
    "https://www.geeksforgeeks.org/0-1-knapsack-problem-dp-10/\n",
    "\n",
    "'''"
   ]
  },
  {
   "cell_type": "code",
   "execution_count": null,
   "metadata": {},
   "outputs": [],
   "source": [
    "'''ENGLISH\n",
    "\n",
    "The function knapSack_recursive_ takes 4 parameters: \n",
    "W : \n",
    "wt:the max weight the knapsack can have\n",
    "val: a list of the weights of each item ,\n",
    "n:  the length of the val list\n",
    "    # Base Case \n",
    "    # If weight of the nth item is more than Knapsack of capacity \n",
    "    # W, then this item cannot be included in the optimal solution \n",
    "    # return the maximum of two cases: \n",
    "    # (1) nth item included \n",
    "    # (2) not included "
   ]
  },
  {
   "cell_type": "code",
   "execution_count": null,
   "metadata": {},
   "outputs": [],
   "source": [
    "\n",
    "# PSEUDOCODE\n",
    "\n",
    "knapsack(W, wt[], val[], n):\n",
    "    \n",
    "IF n is 0 or W is 0 THEN\n",
    "OUTPUT 0\n",
    "\n",
    "IF wt[n-1] > W THEN\n",
    "OUTPUT knapSack_recursive(W, wt, val, n-1) \n",
    "\n",
    "ELSE \n",
    "OUTPUT max( \n",
    "val[n-1] + knapSack_recursive_2( \n",
    "W-wt[n-1], wt, val, n-1), \n",
    "knapSack_recursive_2(W, wt, val, n-1))"
   ]
  },
  {
   "cell_type": "code",
   "execution_count": 18,
   "metadata": {},
   "outputs": [
    {
     "name": "stdout",
     "output_type": "stream",
     "text": [
      "220\n"
     ]
    }
   ],
   "source": [
    "def knapSack(W, wt, val, n): \n",
    "    # Base Case \n",
    "    if n == 0 or W == 0 : \n",
    "        return 0\n",
    "  \n",
    "    # If weight of the nth item is more than Knapsack of capacity \n",
    "    # W, then this item cannot be included in the optimal solution \n",
    "    if (wt[n-1] > W): \n",
    "        return knapSack(W, wt, val, n-1) \n",
    "  \n",
    "    # return the maximum of two cases: \n",
    "    # (1) nth item included \n",
    "    # (2) not included \n",
    "    else: \n",
    "        return max(val[n-1] + knapSack(W-wt[n-1], wt, val, n-1), \n",
    "                   knapSack(W, wt, val, n-1)) \n",
    "  \n",
    "  \n",
    "# To test above function \n",
    "val = [60, 100, 120] \n",
    "wt = [10, 20, 30] \n",
    "W = 50\n",
    "n = len(val) \n",
    "print (knapSack(W, wt, val, n))"
   ]
  },
  {
   "cell_type": "markdown",
   "metadata": {
    "collapsed": true
   },
   "source": [
    "# 5. Generating correct change\n",
    "\n",
    "Now, we will be making change using the fewest coins. \n",
    "\n",
    "Suppose you are a programmer for a vending machine manufacturer. Your company wants to streamline effort by giving out the fewest possible coins in change for each transaction. Suppose a customer puts in a dollar bill and purchases an item for 37 cents. What is the smallest number of coins you can use to make change? The answer is six coins: two quarters, one dime, and three pennies. \n",
    "\n",
    "How did we arrive at the answer of six coins? We start with the largest coin in our arsenal (a quarter) and use as many of those as possible, then we go to the next lowest coin value and use as many of those as possible. This is the greedy algorithm for change-making.\n",
    "\n",
    "**Question:** Write the greedy algorithm for change making.\n",
    "\n",
    "The input is the amount of change to generate (in pennies) and a list of coin sizes (in pennies)\n",
    "\n",
    "The output is the minimum number of coins to gener\n",
    "\n",
    "```\n",
    "# buys with 1 dollar for 37 pennies\n",
    "# Second argument says we can give quarters, dimes, nickels and pennies\n",
    "make_change(100 - 37, [25, 10, 5, 1])\n",
    "\n",
    "# 2 quarters, one dime, and three pennies\n",
    "output --> 6 # Output would be equivalent to the choices [2, 1, 0, 3]\n",
    "```"
   ]
  },
  {
   "cell_type": "code",
   "execution_count": 31,
   "metadata": {},
   "outputs": [
    {
     "name": "stdout",
     "output_type": "stream",
     "text": [
      "Change to make: 63\n",
      "In order to make change for 63 cents:\n",
      "    2 25 cent piece(s)\n",
      "    1 10 cent piece(s)\n",
      "    0 5 cent piece(s)\n",
      "    3 1 cent piece(s)\n"
     ]
    }
   ],
   "source": [
    "coins = [25,10,5,1]\n",
    "results = [0]*len(coins)\n",
    "initial_change = int(input('Change to make: ')) \n",
    "remaining_change = initial_change\n",
    "for index, coin in enumerate(coins):\n",
    "    results[index], remaining_change = divmod(remaining_change, coin)\n",
    "print(\"In order to make change for %d cents:\" % initial_change)\n",
    "for amount, coin in zip(results, coins):\n",
    "    print(\"    %d %d cent piece(s)\" % (amount, coin))"
   ]
  },
  {
   "cell_type": "markdown",
   "metadata": {},
   "source": [
    "# 6 Recursive change\n",
    "\n",
    "Write the greedy change making algorithm using recursion"
   ]
  },
  {
   "cell_type": "code",
   "execution_count": 48,
   "metadata": {},
   "outputs": [
    {
     "data": {
      "text/plain": [
       "6"
      ]
     },
     "execution_count": 48,
     "metadata": {},
     "output_type": "execute_result"
    }
   ],
   "source": [
    "def min_change(V, C):\n",
    "    def min_coins(i, aC):\n",
    "        if aC == 0:\n",
    "            return 0\n",
    "        elif i == -1 or aC < 0:\n",
    "            return float('inf')\n",
    "        else:\n",
    "            return min(min_coins(i-1, aC), 1 + min_coins(i, aC-V[i]))\n",
    "    return min_coins(len(V)-1, C)\n",
    "min_change( [25,10,5,1],100-37)"
   ]
  },
  {
   "cell_type": "markdown",
   "metadata": {},
   "source": [
    "# 7 (Stretch) Dynamic Programming Change making\n",
    "\n",
    "Write a solution to the change making problem using dynamic programming.\n",
    "\n",
    "**Hint:** Start with making change for one cent and systematically work its way up to the amount of change we require. This guarantees us that at each step of the algorithm we already know the minimum number of coins needed to make change for any smaller amount. Keep a memoized table of results for each step working up to the amount of change you need to generate."
   ]
  },
  {
   "cell_type": "code",
   "execution_count": 55,
   "metadata": {},
   "outputs": [
    {
     "name": "stdout",
     "output_type": "stream",
     "text": [
      "Cost: $0.37; Change from $1.00: [25, 10, 1, 1]\n",
      "Cost: $0.51; Change from $1.00: [25, 25, 1]\n",
      "Cost: $0.63; Change from $1.00: [25, 25, 10, 1, 1, 1]\n",
      "Cost: $0.17; Change from $1.00: [10, 5, 1, 1]\n",
      "Cost: $0.91; Change from $1.00: [25, 25, 25, 10, 5, 1]\n"
     ]
    }
   ],
   "source": [
    "coins = [25,10,5,1]\n",
    "results = [0]*len(coins)\n",
    "remaining_change = initial_change\n",
    "for index, coin in enumerate(coins):\n",
    "    results[index], remaining_change = divmod(remaining_change, coin)\n",
    "for cost in [37, 51, 63, 17, 91]:\n",
    "    print(f\"Cost: ${cost/100:.2f}; Change from $1.00: {make_change(cost, coins)}\")"
   ]
  }
 ],
 "metadata": {
  "kernelspec": {
   "display_name": "Python 3",
   "language": "python",
   "name": "python3"
  },
  "language_info": {
   "codemirror_mode": {
    "name": "ipython",
    "version": 3
   },
   "file_extension": ".py",
   "mimetype": "text/x-python",
   "name": "python",
   "nbconvert_exporter": "python",
   "pygments_lexer": "ipython3",
   "version": "3.8.3"
  }
 },
 "nbformat": 4,
 "nbformat_minor": 1
}
